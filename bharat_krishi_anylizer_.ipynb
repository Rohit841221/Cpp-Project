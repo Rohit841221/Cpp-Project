{
  "nbformat": 4,
  "nbformat_minor": 0,
  "metadata": {
    "colab": {
      "provenance": [],
      "toc_visible": true,
      "authorship_tag": "ABX9TyOMVr5ETBTYaCwU6O1Bmqir",
      "include_colab_link": true
    },
    "kernelspec": {
      "name": "python3",
      "display_name": "Python 3"
    },
    "language_info": {
      "name": "python"
    }
  },
  "cells": [
    {
      "cell_type": "markdown",
      "metadata": {
        "id": "view-in-github",
        "colab_type": "text"
      },
      "source": [
        "<a href=\"https://colab.research.google.com/github/Rohit841221/Cpp-Project/blob/main/bharat_krishi_anylizer_.ipynb\" target=\"_parent\"><img src=\"https://colab.research.google.com/assets/colab-badge.svg\" alt=\"Open In Colab\"/></a>"
      ]
    },
    {
      "cell_type": "code",
      "execution_count": 1,
      "metadata": {
        "id": "S_pT_HJvoxeY",
        "colab": {
          "base_uri": "https://localhost:8080/",
          "height": 106
        },
        "outputId": "2c0a1f39-7b49-4ef8-98fb-d3f3eb171209"
      },
      "outputs": [
        {
          "output_type": "error",
          "ename": "IndentationError",
          "evalue": "unexpected indent (<ipython-input-1-bb89c3332309>, line 13)",
          "traceback": [
            "\u001b[0;36m  File \u001b[0;32m\"<ipython-input-1-bb89c3332309>\"\u001b[0;36m, line \u001b[0;32m13\u001b[0m\n\u001b[0;31m    df = pd.DataFrame(data)\u001b[0m\n\u001b[0m    ^\u001b[0m\n\u001b[0;31mIndentationError\u001b[0m\u001b[0;31m:\u001b[0m unexpected indent\n"
          ]
        }
      ],
      "source": [
        "import pandas as pd\n",
        "import numpy as np\n",
        "\n",
        "# Dummy data for Indian farmers\n",
        "data = {\n",
        "    'Farmer': ['Ramu', 'Sita', 'Mohan', 'Geeta', 'Karan', 'Radha', 'Suraj'],\n",
        "        'State': ['Punjab', 'UP', 'Maharashtra', 'Punjab', 'Bihar', 'UP', 'Maharashtra'],\n",
        "            'Crop': ['Wheat', 'Rice', 'Sugarcane', 'Wheat', 'Maize', 'Rice', 'Sugarcane'],\n",
        "                'Land_Area (Acre)': [5, 3, 10, 7, 4, 2, 12],\n",
        "                    'Production (Quintal)': [50, 28, 200, 65, 30, 18, 250]\n",
        "                    }\n",
        "\n",
        "                    df = pd.DataFrame(data)\n",
        "\n",
        "                    # Yield = Production / Land Area\n",
        "                    df['Yield (Qtl/Acre)'] = df['Production (Quintal)'] / df['Land_Area (Acre)']\n",
        "\n",
        "                    # Categorize yield\n",
        "                    df['Yield Category'] = pd.cut(df['Yield (Qtl/Acre)'],\n",
        "                                                  bins=[0, 10, 20, np.inf],\n",
        "                                                                                labels=['Low', 'Medium', 'High'])\n",
        "\n",
        "                                                                                # State-wise average yield\n",
        "                                                                                state_avg_yield = df.groupby('State')['Yield (Qtl/Acre)'].mean().reset_index()\n",
        "\n",
        "                                                                                # Crop-wise top performer\n",
        "                                                                                top_farmers_by_crop = df.loc[df.groupby('Crop')['Yield (Qtl/Acre)'].idxmax()][['Crop', 'Farmer', 'Yield (Qtl/Acre)']]\n",
        "\n",
        "                                                                                # Display results\n",
        "                                                                                print(\"=== Farmers Data ===\\n\", df, \"\\n\")\n",
        "                                                                                print(\"=== State-wise Average Yield ===\\n\", state_avg_yield, \"\\n\")\n",
        "                                                                                print(\"=== Top Performing Farmers by Crop ===\\n\", top_farmers_by_crop)⁰"
      ]
    }
  ]
}